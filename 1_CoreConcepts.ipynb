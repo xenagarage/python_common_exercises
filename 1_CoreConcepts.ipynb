{
  "nbformat": 4,
  "nbformat_minor": 0,
  "metadata": {
    "colab": {
      "name": "CoreConcepts.ipynb",
      "provenance": [],
      "collapsed_sections": [
        "LPop3RQUmiAd",
        "k-7HLR0Umpob",
        "Bd2UW-lDm-z6"
      ]
    },
    "kernelspec": {
      "name": "python3",
      "display_name": "Python 3"
    },
    "language_info": {
      "name": "python"
    }
  },
  "cells": [
    {
      "cell_type": "markdown",
      "source": [
        "# Data Types"
      ],
      "metadata": {
        "id": "LPop3RQUmiAd"
      }
    },
    {
      "cell_type": "markdown",
      "source": [
        "Data Types: Integers, Floats, Strings, Booleans"
      ],
      "metadata": {
        "id": "V9dIAGoHwGGq"
      }
    },
    {
      "cell_type": "code",
      "execution_count": null,
      "metadata": {
        "id": "6wreFu2Hj3PI"
      },
      "outputs": [],
      "source": [
        "# Variable Assignment\n",
        "var_i = 5 # defining an integer number\n",
        "var_ft = 4.0 # defining a float number means we're taking the floating point as well\n",
        "var_st = 'use case one' # defining a string\n",
        "var_b = True # defining a bool"
      ]
    },
    {
      "cell_type": "code",
      "source": [
        "# note: if there'll be ' used in string the string should be defined in one of the two ways shown below\n",
        "var_st = \"this \""
      ],
      "metadata": {
        "id": "lxlRYmnF9Ynx"
      },
      "execution_count": null,
      "outputs": []
    },
    {
      "cell_type": "code",
      "source": [
        "# type() is a built-in function that returns the type of variable back\n",
        "print(type(var_b))\n",
        "\n",
        "#there are other built-in functions that even helps us to change the type of our variable for each data type but they'll be covered on further steps"
      ],
      "metadata": {
        "colab": {
          "base_uri": "https://localhost:8080/"
        },
        "id": "rOQgd1LkxEud",
        "outputId": "fb3e1f9a-e08b-4685-8a2f-5153c6391b14"
      },
      "execution_count": null,
      "outputs": [
        {
          "output_type": "stream",
          "name": "stdout",
          "text": [
            "<class 'bool'>\n"
          ]
        }
      ]
    },
    {
      "cell_type": "code",
      "source": [
        "# what we've done above is called assignment. with '=' operator we assigned values to our variables\n",
        "# there are also other operators used for comparison and logic \n",
        "\n",
        "#Arithmetic Operators\n",
        "var_total = 4 + 5 # '+' is for addition \n",
        "var_lesser = 5 - 1 # '-' substraction\n",
        "var_mul = 2 * 4 # '*' is for multiplication\n",
        "var_sq = 2 ** 2 # exponentiation\n",
        "var_divided = 4 / 2 # '/' for division\n",
        "var_rounded = 4 // 2 # divides and rounds down to nearest integer\n",
        "var_modulo = 5 % 4 # returns the remainder of division"
      ],
      "metadata": {
        "id": "-U_y_GfdxYRO"
      },
      "execution_count": null,
      "outputs": []
    },
    {
      "cell_type": "code",
      "source": [
        "# Variable Assignment Combined with Arithmetics Operators\n",
        "var_total += 5 # equals to var_total = var_total + 5\n",
        "var_lesser -= var_total # -=\n",
        "var_mul *= 2 # *=\n",
        "var_sq **= 5 # **=\n",
        "var_divided /= 3 # /=\n",
        "var_modulo %= 5 # %=\n",
        "var_rounded //= 4 # //="
      ],
      "metadata": {
        "id": "xqgBzOdUzn4w"
      },
      "execution_count": null,
      "outputs": []
    },
    {
      "cell_type": "code",
      "source": [
        "# Comparison\n",
        "# comparison operators are as follows >, <, ==, !=, >=, <=\n",
        "x = 5\n",
        "y = 4\n",
        "print(y < x) # prints True\n",
        "print(x < y) # prints False\n",
        "print(x == y) # checks equality, prints False since x and y are not equal\n",
        "print(x != y) # prints True since x and y are not equal\n",
        "print(x >= y) # printd True because x is greater than y\n",
        "print(x <= y) # printd False because x is greater than y"
      ],
      "metadata": {
        "id": "3X8CQExL2O-8"
      },
      "execution_count": null,
      "outputs": []
    },
    {
      "cell_type": "code",
      "source": [
        "# Logical Operators\n",
        "# and, or, not are logical operators\n",
        "a = True\n",
        "b = False\n",
        "print(a and b) # will be false since logic for True and False result in 0, False\n",
        "print(a or b)\n",
        "print(not a) # will return a as False "
      ],
      "metadata": {
        "id": "Z8qEKbWt0Lrz"
      },
      "execution_count": null,
      "outputs": []
    },
    {
      "cell_type": "code",
      "source": [
        "# Membership Operators\n",
        "# in, not in\n",
        "my_word = \"sena\"\n",
        "print('s' in my_word) # prints True since my_word string indicates s\n",
        "print('s' not in my_word) # prints False since we already know that s is a member of string my_word"
      ],
      "metadata": {
        "id": "MYaJfnA61ANR"
      },
      "execution_count": null,
      "outputs": []
    },
    {
      "cell_type": "code",
      "source": [
        "# Identity Operators\n",
        "# is, is not\n",
        "my_age = 67\n",
        "their_age = 20\n",
        "print(my_age is 65) # prints False\n",
        "print(their_age is not my_age) # prints True"
      ],
      "metadata": {
        "id": "_De7Esye08SS"
      },
      "execution_count": null,
      "outputs": []
    },
    {
      "cell_type": "markdown",
      "source": [
        "There you go! You just finished every assignment and definition step, after learning data structures we will be focusing to speicific nature of both int, float, string and booleans to manipulate them with specific methods and conversions. Keep studying!"
      ],
      "metadata": {
        "id": "1o5wiPDw4YsJ"
      }
    },
    {
      "cell_type": "markdown",
      "source": [
        ""
      ],
      "metadata": {
        "id": "bfeaFw3F4YNo"
      }
    },
    {
      "cell_type": "markdown",
      "source": [
        "# Data Structures"
      ],
      "metadata": {
        "id": "k-7HLR0Umpob"
      }
    },
    {
      "cell_type": "code",
      "source": [
        ""
      ],
      "metadata": {
        "id": "8gV5erv7m4As"
      },
      "execution_count": null,
      "outputs": []
    },
    {
      "cell_type": "markdown",
      "source": [
        "# Attributes, Methods, Built-in Funtions"
      ],
      "metadata": {
        "id": "Vfv6Q7BTmv76"
      }
    },
    {
      "cell_type": "code",
      "source": [
        "# Attributes"
      ],
      "metadata": {
        "id": "-frsZifgm6I_"
      },
      "execution_count": null,
      "outputs": []
    },
    {
      "cell_type": "code",
      "source": [
        "# Methods"
      ],
      "metadata": {
        "id": "Zgs3lCFz8rsb"
      },
      "execution_count": null,
      "outputs": []
    },
    {
      "cell_type": "code",
      "source": [
        "# Built-in Functions"
      ],
      "metadata": {
        "id": "wDJ5ox4m8vx2"
      },
      "execution_count": null,
      "outputs": []
    },
    {
      "cell_type": "markdown",
      "source": [
        "# Control Flows"
      ],
      "metadata": {
        "id": "Y9_tygNYm6kx"
      }
    },
    {
      "cell_type": "code",
      "source": [
        ""
      ],
      "metadata": {
        "id": "HUwVgF7Zm98h"
      },
      "execution_count": null,
      "outputs": []
    },
    {
      "cell_type": "markdown",
      "source": [
        "# Defining Functions"
      ],
      "metadata": {
        "id": "Bd2UW-lDm-z6"
      }
    },
    {
      "cell_type": "code",
      "source": [
        ""
      ],
      "metadata": {
        "id": "phoK0hpMnCfG"
      },
      "execution_count": null,
      "outputs": []
    }
  ]
}
