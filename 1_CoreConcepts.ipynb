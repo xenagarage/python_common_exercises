{
  "nbformat": 4,
  "nbformat_minor": 0,
  "metadata": {
    "colab": {
      "provenance": [],
      "collapsed_sections": [
        "LPop3RQUmiAd",
        "Vfv6Q7BTmv76",
        "Y9_tygNYm6kx",
        "Bd2UW-lDm-z6"
      ]
    },
    "kernelspec": {
      "name": "python3",
      "display_name": "Python 3"
    },
    "language_info": {
      "name": "python"
    }
  },
  "cells": [
    {
      "cell_type": "markdown",
      "source": [
        "# Data Types"
      ],
      "metadata": {
        "id": "LPop3RQUmiAd"
      }
    },
    {
      "cell_type": "markdown",
      "source": [
        "Data Types: Integers, Floats, Strings, Booleans"
      ],
      "metadata": {
        "id": "V9dIAGoHwGGq"
      }
    },
    {
      "cell_type": "code",
      "execution_count": null,
      "metadata": {
        "id": "6wreFu2Hj3PI"
      },
      "outputs": [],
      "source": [
        "# Variable Assignment\n",
        "var_i = 5 # defining an integer number\n",
        "var_ft = 4.0 # defining a float number means we're taking the floating point as well\n",
        "var_st = 'use case one' # defining a string\n",
        "var_b = True # defining a bool"
      ]
    },
    {
      "cell_type": "code",
      "source": [
        "# note: if there'll be ' used inside string the string should be defined in one of the two ways shown below\n",
        "var_st = \"you're doing great using ' in your string\"\n",
        "var_str = 'you\\'re still doing great following this string rule to prevent troubles in quotes'"
      ],
      "metadata": {
        "id": "lxlRYmnF9Ynx"
      },
      "execution_count": null,
      "outputs": []
    },
    {
      "cell_type": "code",
      "source": [
        "# type() is a built-in function that returns the type of variable back\n",
        "print(type(var_b))\n",
        "\n",
        "# there are other built-in functions that even helps us to change the type of our variable for each data type \n",
        "# but they'll be covered on further steps"
      ],
      "metadata": {
        "colab": {
          "base_uri": "https://localhost:8080/"
        },
        "id": "rOQgd1LkxEud",
        "outputId": "fb3e1f9a-e08b-4685-8a2f-5153c6391b14"
      },
      "execution_count": null,
      "outputs": [
        {
          "output_type": "stream",
          "name": "stdout",
          "text": [
            "<class 'bool'>\n"
          ]
        }
      ]
    },
    {
      "cell_type": "code",
      "source": [
        "# operation on first cell is called assignment. with '=' operator we assigned values to our variables\n",
        "# there are also other operators, they're used for comparison and logic \n",
        "\n",
        "#Arithmetic Operators\n",
        "var_total = 4 + 5 # '+' is for addition \n",
        "var_lesser = 5 - 1 # '-' substraction\n",
        "var_mul = 2 * 4 # '*' is for multiplication\n",
        "var_sq = 2 ** 2 # exponentiation\n",
        "var_divided = 4 / 2 # '/' for division\n",
        "var_rounded = 4 // 2 # divides and rounds down to nearest integer\n",
        "var_modulo = 5 % 4 # returns the remainder of division"
      ],
      "metadata": {
        "id": "-U_y_GfdxYRO"
      },
      "execution_count": null,
      "outputs": []
    },
    {
      "cell_type": "code",
      "source": [
        "# Variable Assignment Combined with Arithmetics Operators\n",
        "var_total += 5 # equals to var_total = var_total + 5\n",
        "var_lesser -= var_total # -=\n",
        "var_mul *= 2 # *=\n",
        "var_sq **= 5 # **=\n",
        "var_divided /= 3 # /=\n",
        "var_modulo %= 5 # %=\n",
        "var_rounded //= 4 # //="
      ],
      "metadata": {
        "id": "xqgBzOdUzn4w"
      },
      "execution_count": null,
      "outputs": []
    },
    {
      "cell_type": "code",
      "source": [
        "# Comparison\n",
        "# comparison operators are as follows >, <, ==, !=, >=, <=\n",
        "x = 5\n",
        "y = 4\n",
        "print(y < x) # prints True\n",
        "print(x < y) # prints False\n",
        "print(x == y) # checks equality, prints False since x and y are not equal\n",
        "print(x != y) # prints True since x and y are not equal\n",
        "print(x >= y) # prints True because x is greater than y\n",
        "print(x <= y) # prints False because x is greater than y"
      ],
      "metadata": {
        "id": "3X8CQExL2O-8"
      },
      "execution_count": null,
      "outputs": []
    },
    {
      "cell_type": "code",
      "source": [
        "# Logical Operators\n",
        "# and, or, not are logical operators\n",
        "a = True\n",
        "b = False\n",
        "print(a and b) # will be false since logic for True and False result in 0, False\n",
        "print(a or b)\n",
        "print(not a) # will return a as False "
      ],
      "metadata": {
        "id": "Z8qEKbWt0Lrz"
      },
      "execution_count": null,
      "outputs": []
    },
    {
      "cell_type": "code",
      "source": [
        "# Membership Operators\n",
        "# in, not in\n",
        "my_word = \"sena\"\n",
        "print('s' in my_word) # prints True since my_word string indicates s\n",
        "print('s' not in my_word) # prints False since we already know that s is a member of string my_word"
      ],
      "metadata": {
        "id": "MYaJfnA61ANR"
      },
      "execution_count": null,
      "outputs": []
    },
    {
      "cell_type": "code",
      "source": [
        "# Identity Operators\n",
        "# is, is not\n",
        "my_age = 67\n",
        "their_age = 20\n",
        "print(my_age is 65) # prints False\n",
        "print(their_age is not my_age) # prints True"
      ],
      "metadata": {
        "id": "_De7Esye08SS"
      },
      "execution_count": null,
      "outputs": []
    },
    {
      "cell_type": "markdown",
      "source": [
        "There you go! You just finished every assignment and definition step, after learning data structures we will be focusing to speicific nature of both int, float, string and booleans to manipulate them with specific methods and conversions. Keep studying!"
      ],
      "metadata": {
        "id": "1o5wiPDw4YsJ"
      }
    },
    {
      "cell_type": "markdown",
      "source": [
        "# Data Structures"
      ],
      "metadata": {
        "id": "k-7HLR0Umpob"
      }
    },
    {
      "cell_type": "markdown",
      "source": [
        "Data Structures are known as containers that store data on their specific behaviour and rules.."
      ],
      "metadata": {
        "id": "jTkEte42js2V"
      }
    },
    {
      "cell_type": "code",
      "source": [
        "# Since here we're learning core concepts of Python Programming, the data structures that'll be covered are\n",
        "# built-in data structures, which are: lists, sets, dictionaries, tuples\n",
        "\n",
        "# But you may came across people calling Linked Lists and Stacks also data structures, which is true but\n",
        "# they're the complex versions, User-Defined Data Structures which could be studied later with the basics \n",
        "# we're going to cover"
      ],
      "metadata": {
        "id": "8gV5erv7m4As"
      },
      "execution_count": null,
      "outputs": []
    },
    {
      "cell_type": "markdown",
      "source": [
        "Lists, here we go!"
      ],
      "metadata": {
        "id": "E19YbDsp7No3"
      }
    },
    {
      "cell_type": "code",
      "source": [
        "# Let's start with LISTS !!\n",
        "\n",
        "# A list could be defined by,\n",
        "dt_fruits = ['grape', 'banana', 'strawberry']\n",
        "mad_lst = ['surname', 1, 21.0, False]"
      ],
      "metadata": {
        "id": "QP73wA2XjOgm"
      },
      "execution_count": 1,
      "outputs": []
    },
    {
      "cell_type": "code",
      "source": [
        "# Lists could be indexed\n",
        "\n",
        "print(dt_fruits[0]) # will print first list element\n",
        "print(dt_fruits[-1]) # will print the last element\n",
        "print(dt_fruits[:2]) # will only take all from the start but not the last item from the very end of the list\n",
        "print(dt_fruits[3:]) # will give empty since indexing starts from 0 and we have then 0,1,2 but not 3\n",
        "print(dt_fruits[1:-1]) # middle element basically\n",
        "print(dt_fruits[:]) # will print all elements included\n"
      ],
      "metadata": {
        "colab": {
          "base_uri": "https://localhost:8080/"
        },
        "id": "vfjy1tFo5sOd",
        "outputId": "c9f4b300-0a62-43b8-f235-2827e4063bc2"
      },
      "execution_count": 6,
      "outputs": [
        {
          "output_type": "stream",
          "name": "stdout",
          "text": [
            "grape\n",
            "strawberry\n",
            "['grape', 'banana']\n",
            "[]\n",
            "['banana']\n",
            "['grape', 'banana', 'strawberry']\n"
          ]
        }
      ]
    },
    {
      "cell_type": "code",
      "source": [
        "# remember since indexing starts from 0 dt_fruits[2] will actually return the 3rd element"
      ],
      "metadata": {
        "id": "uWATEYMu-Nvz"
      },
      "execution_count": null,
      "outputs": []
    },
    {
      "cell_type": "code",
      "source": [
        "print(dt_fruits[2:]) # this says take all elements from very end (right) then take only 3rd element from start\n",
        "\n",
        "# 3rd element from start in a list with of 3 items is the last element :)"
      ],
      "metadata": {
        "colab": {
          "base_uri": "https://localhost:8080/"
        },
        "id": "9jfmdAla6u7_",
        "outputId": "05f2a3b3-32c5-472a-a543-cefdc4989672"
      },
      "execution_count": 4,
      "outputs": [
        {
          "output_type": "stream",
          "name": "stdout",
          "text": [
            "['strawberry']\n"
          ]
        }
      ]
    },
    {
      "cell_type": "code",
      "source": [
        "# let's manipulate a list by the example below\n",
        "# it's just like how we in the firsthand defined elements of our empty list\n",
        "\n",
        "dt_fruits[0] = 'melon'\n",
        "print(dt_fruits)"
      ],
      "metadata": {
        "colab": {
          "base_uri": "https://localhost:8080/"
        },
        "id": "9jMVyiU__o_O",
        "outputId": "ff3cf250-0403-4f69-f1a0-a7c505eddfd2"
      },
      "execution_count": 11,
      "outputs": [
        {
          "output_type": "stream",
          "name": "stdout",
          "text": [
            "['melon', 'banana', 'strawberry']\n"
          ]
        }
      ]
    },
    {
      "cell_type": "code",
      "source": [
        "# sad to see you go, grape! "
      ],
      "metadata": {
        "id": "xt0Hn9p___A-"
      },
      "execution_count": null,
      "outputs": []
    },
    {
      "cell_type": "markdown",
      "source": [
        "Let's wrap up what we've learned about data structure Lists,"
      ],
      "metadata": {
        "id": "FVvBf-lr-nvh"
      }
    },
    {
      "cell_type": "markdown",
      "source": [
        "* Lists could be INDEXED\n",
        "\n",
        "We reached elements by their indexes, which we could also manipulate/change elements by their indexes as well"
      ],
      "metadata": {
        "id": "tLYlWyhA-y67"
      }
    },
    {
      "cell_type": "markdown",
      "source": [
        "* Lists are ORDERED\n",
        "\n",
        "There's an order/position of each element in the list object which we also value this to access elements"
      ],
      "metadata": {
        "id": "3Wko6e70_NGZ"
      }
    },
    {
      "cell_type": "markdown",
      "source": [
        "* Lists are MUTABLE\n",
        "\n",
        "Mutability means that the elements could be changed."
      ],
      "metadata": {
        "id": "W8yKYG5c_dJt"
      }
    },
    {
      "cell_type": "markdown",
      "source": [
        "So far so good.\n",
        "\n",
        "Now Sets, here we go!"
      ],
      "metadata": {
        "id": "ygHwD9QUASLa"
      }
    },
    {
      "cell_type": "code",
      "source": [
        "# Sets contain only unique elements only and this becomes handy when one needs to have\n",
        "# a list with no duplicates \n",
        "\n",
        "# A set could be defined as\n",
        "fruit = {'melon', 'banana', 'strawberry'}"
      ],
      "metadata": {
        "id": "PxomyfprA0bL"
      },
      "execution_count": null,
      "outputs": []
    },
    {
      "cell_type": "code",
      "source": [
        "# be careful that if you'll create fruit = {} it won't be an empty set\n",
        "# it'll be an empty Dictionary"
      ],
      "metadata": {
        "id": "dfYYaDkhFHbc"
      },
      "execution_count": null,
      "outputs": []
    },
    {
      "cell_type": "markdown",
      "source": [
        "Sets do not have indexing and are not sorted, but they are manipulatable, we can change elements -> MUTABILITY"
      ],
      "metadata": {
        "id": "EbQ0Y3R7GI9f"
      }
    },
    {
      "cell_type": "markdown",
      "source": [
        "But since they have no index reaching on it's elements it's quite fuzzy. BUT we can define the set all over again which will eventually change the elements"
      ],
      "metadata": {
        "id": "CS_SpRIaGSOG"
      }
    },
    {
      "cell_type": "code",
      "source": [
        "# for example we defined fruit set before, let's define it again with different variables\n",
        "fruit = {'melon', 'apple', 'kiwi'} # the last 2 elements are changed now :)"
      ],
      "metadata": {
        "id": "dyHbZrVtGf4_"
      },
      "execution_count": 13,
      "outputs": []
    },
    {
      "cell_type": "markdown",
      "source": [
        "So Sets are\n",
        "* NOT ORDERED/SORTED which leads to NO INDEXING\n",
        "* MUTABLE\n",
        "\n"
      ],
      "metadata": {
        "id": "awV-_XO9FV21"
      }
    },
    {
      "cell_type": "markdown",
      "source": [
        "Now Dictionaries, here we go!"
      ],
      "metadata": {
        "id": "QULVVrIKAouo"
      }
    },
    {
      "cell_type": "code",
      "source": [
        "# Dictionaries contain mappings of unique keys to it's elements !\n",
        "\n",
        "# A dictionary could be defined as shown below\n",
        "grades = {\"sean\": 95, \"samantha\": 98, \"claire\": 100}"
      ],
      "metadata": {
        "id": "mE0Njgs8G3BD"
      },
      "execution_count": null,
      "outputs": []
    },
    {
      "cell_type": "markdown",
      "source": [
        "As we said mapping is FROM KEYS to VALUES"
      ],
      "metadata": {
        "id": "t1ni86-EHo5i"
      }
    },
    {
      "cell_type": "markdown",
      "source": [
        "And keys could be any immutable type, for example Python Primitive Data Structures that we just learned on first section: integers, strings, floats, booleans. \n",
        "\n",
        "We will see Tuples next. Which Tuples also are immutable so we can use them as our keys for our Dictionaries."
      ],
      "metadata": {
        "id": "R_x69hdBHsTz"
      }
    },
    {
      "cell_type": "markdown",
      "source": [
        "PS: All Data Structures are Data Types!\n"
      ],
      "metadata": {
        "id": "wh8uZtWWJBtd"
      }
    },
    {
      "cell_type": "code",
      "source": [
        "# And keys of one dictionary even could have different types, while one is an integer the other\n",
        "# could be a string\n",
        "\n",
        "scores = {1.0: 5, 2.0: 10, 3.0: 15, \"total limit\":20 }"
      ],
      "metadata": {
        "id": "m9PE8j3VJMUk"
      },
      "execution_count": 16,
      "outputs": []
    },
    {
      "cell_type": "code",
      "source": [
        "print(scores)"
      ],
      "metadata": {
        "colab": {
          "base_uri": "https://localhost:8080/"
        },
        "id": "Ezy7-SguKCIs",
        "outputId": "45f9fd78-2839-4109-fd2c-68235af0a1d4"
      },
      "execution_count": 17,
      "outputs": [
        {
          "output_type": "stream",
          "name": "stdout",
          "text": [
            "{1.0: 5, 2.0: 10, 3.0: 15, 'total limit': 20}\n"
          ]
        }
      ]
    },
    {
      "cell_type": "code",
      "source": [
        "# By the help of Keys we could reach to the values and even change them\n",
        "\n",
        "print(scores) \n",
        "scores[\"total limit\"] = 50 #just reached values of total limit key on scores and changed it's value\n",
        "print(scores)"
      ],
      "metadata": {
        "colab": {
          "base_uri": "https://localhost:8080/"
        },
        "id": "Lnb2nUowKLEt",
        "outputId": "382c6a72-91b6-47b5-c559-8dab282219ff"
      },
      "execution_count": 18,
      "outputs": [
        {
          "output_type": "stream",
          "name": "stdout",
          "text": [
            "{1.0: 5, 2.0: 10, 3.0: 15, 'total limit': 20}\n",
            "{1.0: 5, 2.0: 10, 3.0: 15, 'total limit': 50}\n"
          ]
        }
      ]
    },
    {
      "cell_type": "markdown",
      "source": [
        "So Dictionaries could be wrapped as,\n",
        "\n",
        "\"useful Data Structures when there's a need for key:value association\"\n",
        "* ORDERED\n",
        "* COULD BE ACCESED BY KEYS\n",
        "* MUTABLE"
      ],
      "metadata": {
        "id": "d7xiAGfIMHIo"
      }
    },
    {
      "cell_type": "markdown",
      "source": [
        "Now the diva.. Tuples, here we go!"
      ],
      "metadata": {
        "id": "FBKS6kR1AqH8"
      }
    },
    {
      "cell_type": "code",
      "source": [
        "# Hiyyyaa! We're so close to being done with Data Structures\n",
        "# Here we go, TUPLES\n",
        "\n",
        "# Tuples could be defined with or without ()'s\n",
        "height, depth = 120, 45 # height is assigned to 120, depth is 45\n",
        "tracks = (800, 500, 1000, 2500) # this also is a way to define a tuple called tracks\n",
        "\n",
        "# What's cool is that one could do the trick below\n",
        "short_m, shortest_m, k_m, hightest_m = tracks\n",
        "print(short_m, shortest_m)"
      ],
      "metadata": {
        "colab": {
          "base_uri": "https://localhost:8080/"
        },
        "id": "y91NODNzM253",
        "outputId": "81b72294-ded5-4d0a-8474-b9793572ca1d"
      },
      "execution_count": 22,
      "outputs": [
        {
          "output_type": "stream",
          "name": "stdout",
          "text": [
            "800 500\n"
          ]
        }
      ]
    },
    {
      "cell_type": "markdown",
      "source": [
        "Congratulations you just assigned many variables in a very compact way :)"
      ],
      "metadata": {
        "id": "bj5Hew1FO_xd"
      }
    },
    {
      "cell_type": "code",
      "source": [
        "# Tuples are also handy when indexing, but as all indexing examples we don't call it with tracks()\n",
        "# but []' s\n",
        "\n",
        "tracks[0] "
      ],
      "metadata": {
        "colab": {
          "base_uri": "https://localhost:8080/"
        },
        "id": "UixWR-J1P8tl",
        "outputId": "3f6fdd61-9d15-4e45-8c05-8a1241da6ad6"
      },
      "execution_count": 27,
      "outputs": [
        {
          "output_type": "execute_result",
          "data": {
            "text/plain": [
              "800"
            ]
          },
          "metadata": {},
          "execution_count": 27
        }
      ]
    },
    {
      "cell_type": "markdown",
      "source": [
        "And as we just proved, Tuples are Ordered just like Lists. And we're able to access by indices.\n",
        "\n",
        "Summary of Tuples,\n",
        "* ORDERED\n",
        "* INDEXING AVAILABLE\n",
        "* IMMUTABLE (they're most famous behaviour btw)"
      ],
      "metadata": {
        "id": "9_jmTIKgPTQy"
      }
    },
    {
      "cell_type": "markdown",
      "source": [
        "# Attributes, Methods, Built-in Funtions"
      ],
      "metadata": {
        "id": "Vfv6Q7BTmv76"
      }
    },
    {
      "cell_type": "code",
      "source": [
        "# Attributes"
      ],
      "metadata": {
        "id": "-frsZifgm6I_"
      },
      "execution_count": null,
      "outputs": []
    },
    {
      "cell_type": "code",
      "source": [
        "# Methods"
      ],
      "metadata": {
        "id": "Zgs3lCFz8rsb"
      },
      "execution_count": null,
      "outputs": []
    },
    {
      "cell_type": "code",
      "source": [
        "# Built-in Functions"
      ],
      "metadata": {
        "id": "wDJ5ox4m8vx2"
      },
      "execution_count": null,
      "outputs": []
    },
    {
      "cell_type": "markdown",
      "source": [
        "# Control Flows"
      ],
      "metadata": {
        "id": "Y9_tygNYm6kx"
      }
    },
    {
      "cell_type": "code",
      "source": [],
      "metadata": {
        "id": "HUwVgF7Zm98h"
      },
      "execution_count": null,
      "outputs": []
    },
    {
      "cell_type": "markdown",
      "source": [
        "# Defining Functions"
      ],
      "metadata": {
        "id": "Bd2UW-lDm-z6"
      }
    },
    {
      "cell_type": "code",
      "source": [],
      "metadata": {
        "id": "phoK0hpMnCfG"
      },
      "execution_count": null,
      "outputs": []
    }
  ]
}
