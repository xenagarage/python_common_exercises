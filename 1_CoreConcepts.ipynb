{
  "nbformat": 4,
  "nbformat_minor": 0,
  "metadata": {
    "colab": {
      "name": "CoreConcepts.ipynb",
      "provenance": [],
      "collapsed_sections": [
        "LPop3RQUmiAd",
        "k-7HLR0Umpob",
        "Bd2UW-lDm-z6"
      ]
    },
    "kernelspec": {
      "name": "python3",
      "display_name": "Python 3"
    },
    "language_info": {
      "name": "python"
    }
  },
  "cells": [
    {
      "cell_type": "markdown",
      "source": [
        "# Data Types"
      ],
      "metadata": {
        "id": "LPop3RQUmiAd"
      }
    },
    {
      "cell_type": "code",
      "execution_count": null,
      "metadata": {
        "id": "6wreFu2Hj3PI"
      },
      "outputs": [],
      "source": [
        ""
      ]
    },
    {
      "cell_type": "markdown",
      "source": [
        "# Data Structures"
      ],
      "metadata": {
        "id": "k-7HLR0Umpob"
      }
    },
    {
      "cell_type": "code",
      "source": [
        ""
      ],
      "metadata": {
        "id": "8gV5erv7m4As"
      },
      "execution_count": null,
      "outputs": []
    },
    {
      "cell_type": "markdown",
      "source": [
        "# Attributes, Methods, Built-in Funtions"
      ],
      "metadata": {
        "id": "Vfv6Q7BTmv76"
      }
    },
    {
      "cell_type": "code",
      "source": [
        ""
      ],
      "metadata": {
        "id": "-frsZifgm6I_"
      },
      "execution_count": null,
      "outputs": []
    },
    {
      "cell_type": "markdown",
      "source": [
        "# Control Flows"
      ],
      "metadata": {
        "id": "Y9_tygNYm6kx"
      }
    },
    {
      "cell_type": "code",
      "source": [
        ""
      ],
      "metadata": {
        "id": "HUwVgF7Zm98h"
      },
      "execution_count": null,
      "outputs": []
    },
    {
      "cell_type": "markdown",
      "source": [
        "# Defining Functions"
      ],
      "metadata": {
        "id": "Bd2UW-lDm-z6"
      }
    },
    {
      "cell_type": "code",
      "source": [
        ""
      ],
      "metadata": {
        "id": "phoK0hpMnCfG"
      },
      "execution_count": null,
      "outputs": []
    }
  ]
}
