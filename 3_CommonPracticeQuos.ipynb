{
  "nbformat": 4,
  "nbformat_minor": 0,
  "metadata": {
    "colab": {
      "name": "CommonPracticeQuos.ipynb",
      "provenance": []
    },
    "kernelspec": {
      "name": "python3",
      "display_name": "Python 3"
    },
    "language_info": {
      "name": "python"
    }
  },
  "cells": [
    {
      "cell_type": "markdown",
      "source": [
        "# Prime Number"
      ],
      "metadata": {
        "id": "i6K4FqVSsc9e"
      }
    },
    {
      "cell_type": "code",
      "source": [
        ""
      ],
      "metadata": {
        "id": "e4DKEUh3sfLh"
      },
      "execution_count": null,
      "outputs": []
    },
    {
      "cell_type": "markdown",
      "source": [
        "# Palindrome\n"
      ],
      "metadata": {
        "id": "DTyrWjyvsgfq"
      }
    },
    {
      "cell_type": "code",
      "source": [
        ""
      ],
      "metadata": {
        "id": "cSxZR1Tosj-4"
      },
      "execution_count": null,
      "outputs": []
    }
  ]
}
