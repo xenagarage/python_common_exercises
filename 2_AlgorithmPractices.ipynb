{
  "nbformat": ,
  "nbformat_minor": 0,
  "metadata": {
    "colab": {
      "name": "AlgorithmPractices.ipynb",
      "provenance": [],
      "collapsed_sections": [
        "ympIpbjHrGJp",
        "mAIPIM2srKKE",
        "lK0vu-GvrORv",
        "d4LlD8o7rW4r",
        "QtLZUsXvrYux",
        "ixYaZ4tLrbts",
        "NO-4VIwOrrNM"
      ]
    },
    "kernelspec": {
      "name": "python3",
      "display_name": "Python 3"
    },
    "language_info": {
      "name": "python"
    }
  },
  "cells": [
    {
      "cell_type": "markdown",
      "source": [
        "# Time and Space Complexity"
      ],
      "metadata": {
        "id": "ympIpbjHrGJp"
      }
    },
    {
      "cell_type": "code",
      "source": [
        ""
      ],
      "metadata": {
        "id": "YGLtpCDirJpi"
      },
      "execution_count": null,
      "outputs": []
    },
    {
      "cell_type": "markdown",
      "source": [
        "# Search Algorithms"
      ],
      "metadata": {
        "id": "mAIPIM2srKKE"
      }
    },
    {
      "cell_type": "code",
      "source": [
        ""
      ],
      "metadata": {
        "id": "b3m_JcrSrTRW"
      },
      "execution_count": null,
      "outputs": []
    },
    {
      "cell_type": "markdown",
      "source": [
        "# Sorting Algorithms\n"
      ],
      "metadata": {
        "id": "lK0vu-GvrORv"
      }
    },
    {
      "cell_type": "code",
      "source": [
        ""
      ],
      "metadata": {
        "id": "kmrV1Y2BrNj6"
      },
      "execution_count": null,
      "outputs": []
    },
    {
      "cell_type": "markdown",
      "source": [
        "# Recursion"
      ],
      "metadata": {
        "id": "d4LlD8o7rW4r"
      }
    },
    {
      "cell_type": "code",
      "source": [
        ""
      ],
      "metadata": {
        "id": "3KIsdYVUrYPS"
      },
      "execution_count": null,
      "outputs": []
    },
    {
      "cell_type": "markdown",
      "source": [
        "# Dynamic Programming"
      ],
      "metadata": {
        "id": "QtLZUsXvrYux"
      }
    },
    {
      "cell_type": "code",
      "source": [
        ""
      ],
      "metadata": {
        "id": "YB12onXUrbN-"
      },
      "execution_count": null,
      "outputs": []
    },
    {
      "cell_type": "markdown",
      "source": [
        "# Divide and Conquer"
      ],
      "metadata": {
        "id": "ixYaZ4tLrbts"
      }
    },
    {
      "cell_type": "markdown",
      "source": [
        ""
      ],
      "metadata": {
        "id": "MCpBYkydrohi"
      }
    },
    {
      "cell_type": "code",
      "source": [
        ""
      ],
      "metadata": {
        "id": "nnYeP2DKrfTH"
      },
      "execution_count": null,
      "outputs": []
    },
    {
      "cell_type": "markdown",
      "source": [
        "# Arrays, Strings, Linked Lists, Trees, Stacks, Queues, Graphs"
      ],
      "metadata": {
        "id": "NO-4VIwOrrNM"
      }
    },
    {
      "cell_type": "code",
      "source": [
        ""
      ],
      "metadata": {
        "id": "CAPYCGZmr3bU"
      },
      "execution_count": null,
      "outputs": []
    }
  ]
}
